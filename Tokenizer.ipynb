{
 "cells": [
  {
   "cell_type": "code",
   "execution_count": 2,
   "id": "258cc3e1",
   "metadata": {},
   "outputs": [
    {
     "name": "stdout",
     "output_type": "stream",
     "text": [
      "showing info https://raw.githubusercontent.com/nltk/nltk_data/gh-pages/index.xml\n"
     ]
    },
    {
     "data": {
      "text/plain": [
       "True"
      ]
     },
     "execution_count": 2,
     "metadata": {},
     "output_type": "execute_result"
    }
   ],
   "source": [
    "import nltk\n",
    "nltk.download()"
   ]
  },
  {
   "cell_type": "markdown",
   "id": "06b5af8f",
   "metadata": {},
   "source": [
    "# Sent tokenizer"
   ]
  },
  {
   "cell_type": "code",
   "execution_count": 4,
   "id": "8f5b170b",
   "metadata": {},
   "outputs": [
    {
     "name": "stdout",
     "output_type": "stream",
     "text": [
      "Are you curious about tokenizer? let's see how it works! we need to analize a couple\n",
      "['Are you curious about tokenizer?', \"let's see how it works!\", 'we need to analize a couple']\n"
     ]
    }
   ],
   "source": [
    "from nltk import sent_tokenize\n",
    "text = \"Are you curious about tokenizer? let's see how it works! we need to analize a couple\"\n",
    "\n",
    "print(text)\n",
    "\n",
    "output = sent_tokenize(text)\n",
    "print(output)"
   ]
  },
  {
   "cell_type": "markdown",
   "id": "10541942",
   "metadata": {},
   "source": [
    "# Word tokenizer"
   ]
  },
  {
   "cell_type": "code",
   "execution_count": 8,
   "id": "664b81cb",
   "metadata": {},
   "outputs": [
    {
     "name": "stdout",
     "output_type": "stream",
     "text": [
      "Are you curious about tokenizer? let's see how it works! we need to analize a couple \n",
      "['Are', 'you', 'curious', 'about', 'tokenizer', '?', 'let', \"'s\", 'see', 'how', 'it', 'works', '!', 'we', 'need', 'to', 'analize', 'a', 'couple']\n"
     ]
    }
   ],
   "source": [
    "from nltk import word_tokenize\n",
    "text = \"Are you curious about tokenizer? let's see how it works! we need to analize a couple \"\n",
    "\n",
    "print(text)\n",
    "\n",
    "output = word_tokenize(text)\n",
    "print(output)"
   ]
  },
  {
   "cell_type": "markdown",
   "id": "a7c670e9",
   "metadata": {},
   "source": [
    "# WordPunct tokenizer"
   ]
  },
  {
   "cell_type": "code",
   "execution_count": 13,
   "id": "37e260b3",
   "metadata": {},
   "outputs": [
    {
     "name": "stdout",
     "output_type": "stream",
     "text": [
      "['Are', 'you', 'curious', 'about', 'tokenizer', '?', 'let', \"'\", 's', 'see', 'how', 'it', 'works', '!', 'we', 'need', 'to', 'analize', 'a', 'couple']\n"
     ]
    }
   ],
   "source": [
    "from nltk.tokenize import WordPunctTokenizer\n",
    "\n",
    "text = \"Are you curious about tokenizer? let's see how it works! we need to analize a couple\"\n",
    "model = WordPunctTokenizer()\n",
    "\n",
    "output = model.tokenize(text)  # Correct method name is `tokenize`, not `tokenizer`\n",
    "print(output)\n"
   ]
  },
  {
   "cell_type": "markdown",
   "id": "ea458103",
   "metadata": {},
   "source": [
    "# Stemming"
   ]
  },
  {
   "cell_type": "code",
   "execution_count": 15,
   "id": "4a89ee4f",
   "metadata": {},
   "outputs": [
    {
     "name": "stdout",
     "output_type": "stream",
     "text": [
      "table ['tabl']\n",
      "probably ['probabl']\n",
      "wolves ['wolv']\n",
      "playing ['play']\n",
      "is ['is']\n",
      "cats ['cat']\n",
      "the ['the']\n"
     ]
    }
   ],
   "source": [
    "from nltk.stem import PorterStemmer\n",
    "from nltk.stem import LancasterStemmer\n",
    "from nltk.stem import SnowballStemmer\n",
    "\n",
    "\n",
    "words = ['table','probably','wolves','playing','is','cats','the']\n",
    "\n",
    "# easy to use\n",
    "stemmer_porter = PorterStemmer()\n",
    "\n",
    "# complex to small words\n",
    "lancaster_porter = LancasterStemmer()\n",
    "\n",
    "# multilangual\n",
    "snowball_porter = SnowballStemmer(\"english\") \n",
    "\n",
    "for word in words :\n",
    "    stemmed_words = [snowball_porter.stem(word)]\n",
    "    # lancaster_porter.stem(word),snowball_porter.steam(word)\n",
    "    print(word,stemmed_words)"
   ]
  },
  {
   "cell_type": "code",
   "execution_count": null,
   "id": "548a5ef0",
   "metadata": {},
   "outputs": [],
   "source": []
  }
 ],
 "metadata": {
  "kernelspec": {
   "display_name": "Python 3 (ipykernel)",
   "language": "python",
   "name": "python3"
  },
  "language_info": {
   "codemirror_mode": {
    "name": "ipython",
    "version": 3
   },
   "file_extension": ".py",
   "mimetype": "text/x-python",
   "name": "python",
   "nbconvert_exporter": "python",
   "pygments_lexer": "ipython3",
   "version": "3.9.6"
  }
 },
 "nbformat": 4,
 "nbformat_minor": 5
}
