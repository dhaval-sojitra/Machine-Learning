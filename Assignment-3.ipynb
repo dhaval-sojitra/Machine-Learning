{
 "cells": [
  {
   "cell_type": "code",
   "execution_count": 1,
   "id": "af9b9e7e",
   "metadata": {},
   "outputs": [],
   "source": [
    "import pandas as pd"
   ]
  },
  {
   "cell_type": "code",
   "execution_count": 2,
   "id": "fdb98dc9",
   "metadata": {},
   "outputs": [
    {
     "name": "stdout",
     "output_type": "stream",
     "text": [
      "   Id     Name          City Contact Details    Stream  Mark1  Mark2  Mark3  \\\n",
      "0   1    Alice      New York    123-456-7890   Science     85     87     88   \n",
      "1   2      Bob   Los Angeles    234-567-8901  Commerce     78     80     79   \n",
      "2   3  Charlie       Chicago    345-678-9012      Arts     92     91     90   \n",
      "3   4    David       Houston    456-789-0123   Science     88     89     85   \n",
      "4   5      Eva       Phoenix    567-890-1234  Commerce     76     77     75   \n",
      "5   6    Frank  Philadelphia    678-901-2345      Arts     95     96     94   \n",
      "6   7    Grace   San Antonio    789-012-3456   Science     80     82     81   \n",
      "\n",
      "   Mark4  \n",
      "0     86  \n",
      "1     77  \n",
      "2     89  \n",
      "3     87  \n",
      "4     74  \n",
      "5     93  \n",
      "6     83  \n"
     ]
    }
   ],
   "source": [
    "#print first 7 reacords\n",
    "df = pd.read_csv('student_records.csv')\n",
    "print(df.head(7))"
   ]
  },
  {
   "cell_type": "code",
   "execution_count": 5,
   "id": "fd1e62ec",
   "metadata": {},
   "outputs": [
    {
     "name": "stdout",
     "output_type": "stream",
     "text": [
      "['Id', 'Name', 'City', 'Contact Details', 'Stream', 'Mark1', 'Mark2', 'Mark3', 'Mark4']\n"
     ]
    }
   ],
   "source": [
    "#display columns name\n",
    "print(df.columns.tolist())"
   ]
  },
  {
   "cell_type": "code",
   "execution_count": 6,
   "id": "f321ebb9",
   "metadata": {},
   "outputs": [
    {
     "name": "stdout",
     "output_type": "stream",
     "text": [
      "              Id      Mark1      Mark2      Mark3      Mark4\n",
      "count  15.000000  15.000000  15.000000  15.000000  15.000000\n",
      "mean    8.000000  85.466667  85.866667  84.533333  84.133333\n",
      "std     4.472136   6.243473   5.553206   5.829318   5.423055\n",
      "min     1.000000  76.000000  77.000000  75.000000  74.000000\n",
      "25%     4.500000  80.500000  81.500000  80.000000  80.000000\n",
      "50%     8.000000  85.000000  85.000000  84.000000  85.000000\n",
      "75%    11.500000  91.000000  90.000000  89.500000  88.000000\n",
      "max    15.000000  95.000000  96.000000  94.000000  93.000000\n"
     ]
    }
   ],
   "source": [
    "#print the statestical informantion of datafreame\n",
    "print(df.describe())"
   ]
  },
  {
   "cell_type": "code",
   "execution_count": 10,
   "id": "b198abb5",
   "metadata": {},
   "outputs": [
    {
     "name": "stdout",
     "output_type": "stream",
     "text": [
      "    Id     Name          City Contact Details    Stream  Mark1  Mark2  Mark3  \\\n",
      "0    1    Alice      New York    123-456-7890   Science     85     87     88   \n",
      "1    2      Bob   Los Angeles    234-567-8901  Commerce     78     80     79   \n",
      "2    3  Charlie       Chicago    345-678-9012      Arts     92     91     90   \n",
      "3    4    David       Houston    456-789-0123   Science     88     89     85   \n",
      "4    5      Eva       Phoenix    567-890-1234  Commerce     76     77     75   \n",
      "5    6    Frank  Philadelphia    678-901-2345      Arts     95     96     94   \n",
      "6    7    Grace   San Antonio    789-012-3456   Science     80     82     81   \n",
      "7    8   Hannah     San Diego    890-123-4567  Commerce     83     84     82   \n",
      "8    9      Ivy        Dallas    901-234-5678      Arts     90     88     89   \n",
      "9   10     Jack      San Jose    012-345-6789   Science     86     85     84   \n",
      "10  11     Kara        Austin    123-456-7809  Commerce     79     81     78   \n",
      "11  12      Leo  Jacksonville    234-567-8910      Arts     94     93     92   \n",
      "12  13     Mona    Fort Worth    345-678-9011   Science     81     83     79   \n",
      "13  14     Nina      Columbus    456-789-0122  Commerce     82     80     81   \n",
      "14  15    Oscar     Charlotte    567-890-1233      Arts     93     92     91   \n",
      "\n",
      "    Mark4  \n",
      "0      86  \n",
      "1      77  \n",
      "2      89  \n",
      "3      87  \n",
      "4      74  \n",
      "5      93  \n",
      "6      83  \n",
      "7      85  \n",
      "8      87  \n",
      "9      82  \n",
      "10     80  \n",
      "11     90  \n",
      "12     80  \n",
      "13     79  \n",
      "14     90  \n"
     ]
    }
   ],
   "source": [
    "#print all the record of dataframe in alphabetical orders.\n",
    "print(df.sort_values(by='Name'))"
   ]
  },
  {
   "cell_type": "code",
   "execution_count": 11,
   "id": "8a06cd3a",
   "metadata": {},
   "outputs": [
    {
     "name": "stdout",
     "output_type": "stream",
     "text": [
      "    Id     Name          City Contact Details    Stream  Mark1  Mark2  Mark3  \\\n",
      "5    6    Frank  Philadelphia    678-901-2345      Arts     95     96     94   \n",
      "11  12      Leo  Jacksonville    234-567-8910      Arts     94     93     92   \n",
      "14  15    Oscar     Charlotte    567-890-1233      Arts     93     92     91   \n",
      "2    3  Charlie       Chicago    345-678-9012      Arts     92     91     90   \n",
      "8    9      Ivy        Dallas    901-234-5678      Arts     90     88     89   \n",
      "3    4    David       Houston    456-789-0123   Science     88     89     85   \n",
      "0    1    Alice      New York    123-456-7890   Science     85     87     88   \n",
      "9   10     Jack      San Jose    012-345-6789   Science     86     85     84   \n",
      "7    8   Hannah     San Diego    890-123-4567  Commerce     83     84     82   \n",
      "6    7    Grace   San Antonio    789-012-3456   Science     80     82     81   \n",
      "12  13     Mona    Fort Worth    345-678-9011   Science     81     83     79   \n",
      "13  14     Nina      Columbus    456-789-0122  Commerce     82     80     81   \n",
      "10  11     Kara        Austin    123-456-7809  Commerce     79     81     78   \n",
      "1    2      Bob   Los Angeles    234-567-8901  Commerce     78     80     79   \n",
      "4    5      Eva       Phoenix    567-890-1234  Commerce     76     77     75   \n",
      "\n",
      "    Mark4  Total Marks  \n",
      "5      93          378  \n",
      "11     90          369  \n",
      "14     90          366  \n",
      "2      89          362  \n",
      "8      87          354  \n",
      "3      87          349  \n",
      "0      86          346  \n",
      "9      82          337  \n",
      "7      85          334  \n",
      "6      83          326  \n",
      "12     80          323  \n",
      "13     79          322  \n",
      "10     80          318  \n",
      "1      77          314  \n",
      "4      74          302  \n"
     ]
    }
   ],
   "source": [
    "#print all the records of datafreame in a way that the students having highest mark display the first.\n",
    "df['Total Marks'] = df[['Mark1', 'Mark2', 'Mark3', 'Mark4']].sum(axis=1)\n",
    "df_sorted = df.sort_values(by='Total Marks', ascending=False)\n",
    "print(df_sorted)"
   ]
  },
  {
   "cell_type": "code",
   "execution_count": 12,
   "id": "232d1067",
   "metadata": {},
   "outputs": [
    {
     "name": "stdout",
     "output_type": "stream",
     "text": [
      "    Id     Name          City Contact Details    Stream  Mark1  Mark2  Mark3  \\\n",
      "5    6    Frank  Philadelphia    678-901-2345      Arts     95     96     94   \n",
      "11  12      Leo  Jacksonville    234-567-8910      Arts     94     93     92   \n",
      "14  15    Oscar     Charlotte    567-890-1233      Arts     93     92     91   \n",
      "2    3  Charlie       Chicago    345-678-9012      Arts     92     91     90   \n",
      "8    9      Ivy        Dallas    901-234-5678      Arts     90     88     89   \n",
      "3    4    David       Houston    456-789-0123   Science     88     89     85   \n",
      "0    1    Alice      New York    123-456-7890   Science     85     87     88   \n",
      "9   10     Jack      San Jose    012-345-6789   Science     86     85     84   \n",
      "7    8   Hannah     San Diego    890-123-4567  Commerce     83     84     82   \n",
      "6    7    Grace   San Antonio    789-012-3456   Science     80     82     81   \n",
      "12  13     Mona    Fort Worth    345-678-9011   Science     81     83     79   \n",
      "13  14     Nina      Columbus    456-789-0122  Commerce     82     80     81   \n",
      "10  11     Kara        Austin    123-456-7809  Commerce     79     81     78   \n",
      "1    2      Bob   Los Angeles    234-567-8901  Commerce     78     80     79   \n",
      "4    5      Eva       Phoenix    567-890-1234  Commerce     76     77     75   \n",
      "\n",
      "    Mark4  Total Marks  Percentage  \n",
      "5      93          378       94.50  \n",
      "11     90          369       92.25  \n",
      "14     90          366       91.50  \n",
      "2      89          362       90.50  \n",
      "8      87          354       88.50  \n",
      "3      87          349       87.25  \n",
      "0      86          346       86.50  \n",
      "9      82          337       84.25  \n",
      "7      85          334       83.50  \n",
      "6      83          326       81.50  \n",
      "12     80          323       80.75  \n",
      "13     79          322       80.50  \n",
      "10     80          318       79.50  \n",
      "1      77          314       78.50  \n",
      "4      74          302       75.50  \n"
     ]
    }
   ],
   "source": [
    "#add column \"percentage\" in avbove dataframe and assign the calculated percentage based on marks.\n",
    "total_possible_marks = 400 \n",
    "df['Percentage'] = (df['Total Marks'] / total_possible_marks) * 100\n",
    "\n",
    "df_sorted = df.sort_values(by='Total Marks', ascending=False)\n",
    "\n",
    "print(df_sorted)"
   ]
  },
  {
   "cell_type": "code",
   "execution_count": 16,
   "id": "ecf72bf3",
   "metadata": {},
   "outputs": [
    {
     "name": "stdout",
     "output_type": "stream",
     "text": [
      "   Id Name         City Contact Details    Stream  Mark1  Mark2  Mark3  Mark4  \\\n",
      "1   2  Bob  Los Angeles    234-567-8901  Commerce     78     80     79     77   \n",
      "\n",
      "   Total Marks  Percentage  \n",
      "1          314        78.5  \n"
     ]
    }
   ],
   "source": [
    "#print the deatails of studnets who lives in rajkot.\n",
    "print( df[df['City'] == 'Los Angeles'])"
   ]
  },
  {
   "cell_type": "code",
   "execution_count": 18,
   "id": "3420431c",
   "metadata": {},
   "outputs": [
    {
     "name": "stdout",
     "output_type": "stream",
     "text": [
      "    Id  Name        City Contact Details   Stream  Mark1  Mark2  Mark3  Mark4  \\\n",
      "12  13  Mona  Fort Worth    345-678-9011  Science     81     83     79     80   \n",
      "\n",
      "    Total Marks  Percentage  \n",
      "12          323       80.75  \n"
     ]
    }
   ],
   "source": [
    "#print the students whose name starts with 'M'\n",
    "print(df[df['Name'].str.startswith('M')])"
   ]
  },
  {
   "cell_type": "code",
   "execution_count": 19,
   "id": "42dddce9",
   "metadata": {},
   "outputs": [
    {
     "name": "stdout",
     "output_type": "stream",
     "text": [
      "Id                            6\n",
      "Name                      Frank\n",
      "City               Philadelphia\n",
      "Contact Details    678-901-2345\n",
      "Stream                     Arts\n",
      "Mark1                        95\n",
      "Mark2                        96\n",
      "Mark3                        94\n",
      "Mark4                        93\n",
      "Total Marks                 378\n",
      "Percentage                 94.5\n",
      "Name: 5, dtype: object\n"
     ]
    }
   ],
   "source": [
    "#print the student having maximum percentage\n",
    "print(df.loc[df['Percentage'].idxmax()])"
   ]
  },
  {
   "cell_type": "code",
   "execution_count": 20,
   "id": "20367a63",
   "metadata": {},
   "outputs": [
    {
     "name": "stdout",
     "output_type": "stream",
     "text": [
      "Id                            5\n",
      "Name                        Eva\n",
      "City                    Phoenix\n",
      "Contact Details    567-890-1234\n",
      "Stream                 Commerce\n",
      "Mark1                        76\n",
      "Mark2                        77\n",
      "Mark3                        75\n",
      "Mark4                        74\n",
      "Total Marks                 302\n",
      "Percentage                 75.5\n",
      "Name: 4, dtype: object\n"
     ]
    }
   ],
   "source": [
    "#print the student having maximum percentage\n",
    "idx_min = df['Percentage'].idxmin()\n",
    "print(df.loc[idx_min])"
   ]
  },
  {
   "cell_type": "code",
   "execution_count": 23,
   "id": "6175edba",
   "metadata": {},
   "outputs": [
    {
     "name": "stdout",
     "output_type": "stream",
     "text": [
      "    Id    Name         City Contact Details    Stream  Mark1  Mark2  Mark3  \\\n",
      "1    2     Bob  Los Angeles    234-567-8901  Commerce     78     80     79   \n",
      "4    5     Eva      Phoenix    567-890-1234  Commerce     76     77     75   \n",
      "7    8  Hannah    San Diego    890-123-4567  Commerce     83     84     82   \n",
      "10  11    Kara       Austin    123-456-7809  Commerce     79     81     78   \n",
      "13  14    Nina     Columbus    456-789-0122  Commerce     82     80     81   \n",
      "\n",
      "    Mark4  Total Marks  Percentage  \n",
      "1      77          314        78.5  \n",
      "4      74          302        75.5  \n",
      "7      85          334        83.5  \n",
      "10     80          318        79.5  \n",
      "13     79          322        80.5  \n"
     ]
    }
   ],
   "source": [
    "#print the studnets who study in BCA and MCA\n",
    "print(df[df['Stream'].isin(['Commerce', 'MCA'])])"
   ]
  }
 ],
 "metadata": {
  "kernelspec": {
   "display_name": "Python 3 (ipykernel)",
   "language": "python",
   "name": "python3"
  },
  "language_info": {
   "codemirror_mode": {
    "name": "ipython",
    "version": 3
   },
   "file_extension": ".py",
   "mimetype": "text/x-python",
   "name": "python",
   "nbconvert_exporter": "python",
   "pygments_lexer": "ipython3",
   "version": "3.9.6"
  }
 },
 "nbformat": 4,
 "nbformat_minor": 5
}
