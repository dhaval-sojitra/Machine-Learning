{
 "cells": [
  {
   "cell_type": "code",
   "execution_count": 3,
   "id": "f86b6280",
   "metadata": {},
   "outputs": [
    {
     "name": "stdout",
     "output_type": "stream",
     "text": [
      "[[113812.]\n",
      " [122391.]\n",
      " [ 67938.]\n",
      " [ 56957.]\n",
      " [ 60150.]\n",
      " [ 91738.]\n",
      " [112635.]\n",
      " [ 98273.]\n",
      " [ 57189.]]\n",
      "[[ 54142.08716303]\n",
      " [ 35242.16252012]\n",
      " [110841.86109176]\n",
      " [ 74932.00427024]]\n"
     ]
    }
   ],
   "source": [
    "import pandas as pd\n",
    "import numpy as np\n",
    "from sklearn import linear_model,model_selection\n",
    "\n",
    "# Load the data\n",
    "data = pd.read_csv(\"Salary.csv\")\n",
    "\n",
    "# Split the dataset\n",
    "x = np.array(data.YearsExperience).reshape(-1, 1)\n",
    "y = np.array(data.Salary).reshape(-1, 1)\n",
    "\n",
    "#spilt the dataset in training and testing\n",
    "xtrain,xtest,ytrain,ytest=model_selection.train_test_split(x,y,test_size=0.3)\n",
    "\n",
    "# Load the model\n",
    "linear_regression_model = linear_model.LinearRegression()\n",
    "\n",
    "# Train the model: fit\n",
    "linear_regression_model.fit(xtrain, ytrain)\n",
    "\n",
    "# Test the model\n",
    "ytest_predicted = linear_regression_model.predict(xtest)\n",
    "print(ytest)\n",
    "print(ytest_result)\n"
   ]
  }
 ],
 "metadata": {
  "kernelspec": {
   "display_name": "Python 3 (ipykernel)",
   "language": "python",
   "name": "python3"
  },
  "language_info": {
   "codemirror_mode": {
    "name": "ipython",
    "version": 3
   },
   "file_extension": ".py",
   "mimetype": "text/x-python",
   "name": "python",
   "nbconvert_exporter": "python",
   "pygments_lexer": "ipython3",
   "version": "3.9.6"
  }
 },
 "nbformat": 4,
 "nbformat_minor": 5
}
