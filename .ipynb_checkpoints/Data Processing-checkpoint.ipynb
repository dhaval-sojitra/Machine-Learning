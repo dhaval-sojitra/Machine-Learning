{
 "cells": [
  {
   "cell_type": "code",
   "execution_count": 2,
   "id": "3b2fd627",
   "metadata": {},
   "outputs": [
    {
     "name": "stdout",
     "output_type": "stream",
     "text": [
      "[[3 5]\n",
      " [7 4]\n",
      " [2 4]]\n",
      "[4.         4.33333333]\n",
      "[2.1602469  0.47140452]\n",
      "[[-1.          0.66666667]\n",
      " [ 3.         -0.33333333]\n",
      " [-2.         -0.33333333]]\n",
      "[[-0.46291005  1.41421356]\n",
      " [ 1.38873015 -0.70710678]\n",
      " [-0.9258201  -0.70710678]]\n",
      "[0.00000000e+00 5.92118946e-16]\n",
      "[1. 1.]\n"
     ]
    }
   ],
   "source": [
    "import numpy as np\n",
    "import pandas as pd\n",
    "from sklearn import preprocessing\n",
    "\n",
    "data = np.array([[3,5],[7,4],[2,4]])\n",
    "print(data)\n",
    "\n",
    "#Way : 1\n",
    "#mean = average\n",
    "mean_val = data.mean(axis=0)\n",
    "print(mean_val)\n",
    "\n",
    "#Standard Deviation\n",
    "std = data.std(axis=0)\n",
    "print(std)\n",
    "\n",
    "#Mean Removal : it means mean=0, std=1\n",
    "final_val = data-mean_val\n",
    "print(final_val)\n",
    "# print(final_val.mean(axis = 0))\n",
    "# print(final_val.std(axis = 0))\n",
    "\n",
    "#Way:2\n",
    "#scale()\n",
    "final = preprocessing.scale(data)\n",
    "print(final)\n",
    "print(final.mean(axis = 0))\n",
    "print(final.std(axis = 0))\n"
   ]
  },
  {
   "cell_type": "code",
   "execution_count": 7,
   "id": "7169b478",
   "metadata": {},
   "outputs": [
    {
     "name": "stdout",
     "output_type": "stream",
     "text": [
      "    year  person   male  female\n",
      "0   2011   85.60  36.29   53.66\n",
      "1   2010   50.47  82.88   49.72\n",
      "2   2012    2.51  67.35   43.58\n",
      "3   1999   50.90  84.91    6.96\n",
      "4   1993    6.54  10.47   97.47\n",
      "5   1997   64.46  82.18    3.43\n",
      "6   2007    4.44  43.73   96.34\n",
      "7   2008   94.53  10.72   53.40\n",
      "8   2001    6.49  59.19   27.44\n",
      "9   2004   60.61  45.69   67.21\n",
      "10  1995   53.75  19.24   43.91\n",
      "11  2012   97.58   1.69   10.12\n",
      "12  2012   71.15  32.69   69.02\n",
      "13  1991    2.57  75.02   18.07\n",
      "14  2010   95.56  86.84   54.92\n",
      "15  2011    4.94  14.57   15.68\n",
      "16  1986   63.96  36.57   95.50\n",
      "17  1983   34.10  82.32   87.78\n",
      "18  2000   27.14  12.89   21.98\n",
      "19  1993    9.55  20.09   21.24\n",
      "20  1986   38.82  95.61   36.45\n",
      "21  2010   80.38  60.01   15.21\n",
      "22  2010    6.23  29.72   37.88\n",
      "23  2012   28.57  13.16   16.33\n",
      "24  1994   50.41  89.26   41.22\n",
      "25  2010   51.71  18.92   64.39\n",
      "26  1991   10.66  57.04   53.13\n",
      "27  1996   91.25  10.92   54.72\n",
      "28  2009   91.61  48.14   25.08\n",
      "29  1995   67.79   6.81   60.41\n",
      "    person   male  female\n",
      "0    85.60  36.29   53.66\n",
      "1    50.47  82.88   49.72\n",
      "2     2.51  67.35   43.58\n",
      "3    50.90  84.91    6.96\n",
      "4     6.54  10.47   97.47\n",
      "5    64.46  82.18    3.43\n",
      "6     4.44  43.73   96.34\n",
      "7    94.53  10.72   53.40\n",
      "8     6.49  59.19   27.44\n",
      "9    60.61  45.69   67.21\n",
      "10   53.75  19.24   43.91\n",
      "11   97.58   1.69   10.12\n",
      "12   71.15  32.69   69.02\n",
      "13    2.57  75.02   18.07\n",
      "14   95.56  86.84   54.92\n",
      "15    4.94  14.57   15.68\n",
      "16   63.96  36.57   95.50\n",
      "17   34.10  82.32   87.78\n",
      "18   27.14  12.89   21.98\n",
      "19    9.55  20.09   21.24\n",
      "20   38.82  95.61   36.45\n",
      "21   80.38  60.01   15.21\n",
      "22    6.23  29.72   37.88\n",
      "23   28.57  13.16   16.33\n",
      "24   50.41  89.26   41.22\n",
      "25   51.71  18.92   64.39\n",
      "26   10.66  57.04   53.13\n",
      "27   91.25  10.92   54.72\n",
      "28   91.61  48.14   25.08\n",
      "29   67.79   6.81   60.41\n",
      "person    46.809333\n",
      "male      44.497333\n",
      "female    44.741667\n",
      "dtype: float64\n",
      "person    33.109572\n",
      "male      30.160826\n",
      "female    27.231259\n",
      "dtype: float64\n",
      "[-4.44089210e-17 -1.48029737e-16 -4.44089210e-17]\n",
      "[1. 1. 1.]\n"
     ]
    }
   ],
   "source": [
    "df=pd.read_csv(\"csvdata.csv\")\n",
    "print(df)\n",
    "data = df[['person','male','female']]\n",
    "print(data)\n",
    "\n",
    "print(data.mean(axis=0))\n",
    "print(data.std(axis=0))\n",
    "\n",
    "mean_removed_data = preprocessing.scale(data)\n",
    "print(mean_removed_data.mean(axis=0))\n",
    "print(mean_removed_data.std(axis=0))"
   ]
  },
  {
   "cell_type": "markdown",
   "id": "74eda60f",
   "metadata": {},
   "source": [
    "# Scalling\n"
   ]
  },
  {
   "cell_type": "code",
   "execution_count": 9,
   "id": "80f03789",
   "metadata": {},
   "outputs": [
    {
     "name": "stdout",
     "output_type": "stream",
     "text": [
      "[[0.2 1. ]\n",
      " [1.  0. ]\n",
      " [0.  0. ]]\n"
     ]
    }
   ],
   "source": [
    "data = np.array([[3,5],[7,4],[2,4]])\n",
    "\n",
    "#Define A Scaller  Model for scalling the data\n",
    "scaller_model = preprocessing.MinMaxScaler()\n",
    "\n",
    "#Apply data to the model : fi\n",
    "op1 = scaller_model.fit(data)\n",
    "\n",
    "#Let the model tranfer the data according to requirnment : transforward\n",
    "op2 = op1.transform(data)\n",
    "\n",
    "#print the result\n",
    "print(op2)"
   ]
  },
  {
   "cell_type": "code",
   "execution_count": 11,
   "id": "e74905e0",
   "metadata": {},
   "outputs": [
    {
     "name": "stdout",
     "output_type": "stream",
     "text": [
      "[[0.2 1. ]\n",
      " [1.  0. ]\n",
      " [0.  0. ]]\n"
     ]
    }
   ],
   "source": [
    "data = np.array([[3,5],[7,4],[2,4]])\n",
    "\n",
    "#Define A Scaller Model for scalling the data\n",
    "scaller_modle = preprocessing.MinMaxScaler\n",
    "\n",
    "#Apply the data to model and let the model transfer the data accordingly\n",
    "op = scaller_model.fit_transform(data)\n",
    "print(op)"
   ]
  },
  {
   "cell_type": "markdown",
   "id": "1206ab1c",
   "metadata": {},
   "source": [
    "# Normalization"
   ]
  },
  {
   "cell_type": "code",
   "execution_count": 12,
   "id": "e4088ee4",
   "metadata": {},
   "outputs": [
    {
     "name": "stdout",
     "output_type": "stream",
     "text": [
      "[[0.375      0.625     ]\n",
      " [0.63636364 0.36363636]\n",
      " [0.33333333 0.66666667]]\n"
     ]
    }
   ],
   "source": [
    "data = np.array([[3,5],[7,4],[2,4]])\n",
    "op = preprocessing.normalize(data,norm=\"l1\")\n",
    "print(op)"
   ]
  }
 ],
 "metadata": {
  "kernelspec": {
   "display_name": "Python 3 (ipykernel)",
   "language": "python",
   "name": "python3"
  },
  "language_info": {
   "codemirror_mode": {
    "name": "ipython",
    "version": 3
   },
   "file_extension": ".py",
   "mimetype": "text/x-python",
   "name": "python",
   "nbconvert_exporter": "python",
   "pygments_lexer": "ipython3",
   "version": "3.9.6"
  }
 },
 "nbformat": 4,
 "nbformat_minor": 5
}
