{
 "cells": [
  {
   "cell_type": "code",
   "execution_count": 9,
   "id": "3b2fd627",
   "metadata": {},
   "outputs": [
    {
     "name": "stdout",
     "output_type": "stream",
     "text": [
      "[[3 5]\n",
      " [7 4]\n",
      " [2 4]]\n",
      "[4.         4.33333333]\n",
      "[2.1602469  0.47140452]\n",
      "[[-1.          0.66666667]\n",
      " [ 3.         -0.33333333]\n",
      " [-2.         -0.33333333]]\n",
      "[[-0.46291005  1.41421356]\n",
      " [ 1.38873015 -0.70710678]\n",
      " [-0.9258201  -0.70710678]]\n",
      "[0.00000000e+00 5.92118946e-16]\n",
      "[1. 1.]\n"
     ]
    }
   ],
   "source": [
    "import numpy as np\n",
    "from sklearn import preprocessing\n",
    "\n",
    "data = np.array([[3,5],[7,4],[2,4]])\n",
    "print(data)\n",
    "\n",
    "#Way : 1\n",
    "#mean = average\n",
    "mean_val = data.mean(axis=0)\n",
    "print(mean_val)\n",
    "\n",
    "#Standard Deviation\n",
    "std = data.std(axis=0)\n",
    "print(std)\n",
    "\n",
    "#Mean Removal : it means mean=0, std=1\n",
    "final_val = data-mean_val\n",
    "print(final_val)\n",
    "# print(final_val.mean(axis = 0))\n",
    "# print(final_val.std(axis = 0))\n",
    "\n",
    "#Way:2\n",
    "#scale()\n",
    "final = preprocessing.scale(data)\n",
    "print(final)\n",
    "print(final.mean(axis = 0))\n",
    "print(final.std(axis = 0))\n"
   ]
  }
 ],
 "metadata": {
  "kernelspec": {
   "display_name": "Python 3 (ipykernel)",
   "language": "python",
   "name": "python3"
  },
  "language_info": {
   "codemirror_mode": {
    "name": "ipython",
    "version": 3
   },
   "file_extension": ".py",
   "mimetype": "text/x-python",
   "name": "python",
   "nbconvert_exporter": "python",
   "pygments_lexer": "ipython3",
   "version": "3.9.6"
  }
 },
 "nbformat": 4,
 "nbformat_minor": 5
}
