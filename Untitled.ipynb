{
 "cells": [
  {
   "cell_type": "code",
   "execution_count": 2,
   "id": "08fe5e77",
   "metadata": {},
   "outputs": [
    {
     "name": "stdout",
     "output_type": "stream",
     "text": [
      "[[3. ]\n",
      " [1. ]\n",
      " [9. ]\n",
      " [0.5]\n",
      " [2. ]]\n",
      "[[ 54142.08716303]\n",
      " [ 35242.16252012]\n",
      " [110841.86109176]\n",
      " [ 30517.1813594 ]\n",
      " [ 44692.12484158]]\n"
     ]
    }
   ],
   "source": [
    "import pandas as pd\n",
    "import numpy as np\n",
    "from sklearn import linear_model\n",
    "\n",
    "# Load the data\n",
    "data = pd.read_csv(\"Salary.csv\")\n",
    "\n",
    "# Split the dataset\n",
    "x = np.array(data.YearsExperience).reshape(-1, 1)\n",
    "y = np.array(data.Salary).reshape(-1, 1)\n",
    "\n",
    "# Load the model\n",
    "linear_regression_model = linear_model.LinearRegression()\n",
    "\n",
    "# Train the model: fit\n",
    "linear_regression_model.fit(x, y)\n",
    "\n",
    "# Test the model\n",
    "xtest = np.array([3.0, 1.0, 9.0, 0.5, 2.0]).reshape(-1, 1)\n",
    "ytest_result = linear_regression_model.predict(xtest)\n",
    "print(xtest)\n",
    "print(ytest_result)\n"
   ]
  }
 ],
 "metadata": {
  "kernelspec": {
   "display_name": "Python 3 (ipykernel)",
   "language": "python",
   "name": "python3"
  },
  "language_info": {
   "codemirror_mode": {
    "name": "ipython",
    "version": 3
   },
   "file_extension": ".py",
   "mimetype": "text/x-python",
   "name": "python",
   "nbconvert_exporter": "python",
   "pygments_lexer": "ipython3",
   "version": "3.9.6"
  }
 },
 "nbformat": 4,
 "nbformat_minor": 5
}
