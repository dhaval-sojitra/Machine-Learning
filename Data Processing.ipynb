{
 "cells": [
  {
   "cell_type": "code",
   "execution_count": 3,
   "id": "b5bd6690",
   "metadata": {},
   "outputs": [
    {
     "name": "stdout",
     "output_type": "stream",
     "text": [
      "[[3 5]\n",
      " [7 4]\n",
      " [2 4]]\n",
      "[4.         4.33333333]\n",
      "[2.1602469  0.47140452]\n"
     ]
    }
   ],
   "source": [
    "import numpy as np\n",
    "from sklearn import preprocessing\n",
    "\n",
    "data = np.array([[3,5],[7,4],[2,4]])\n",
    "print(data)\n",
    "\n",
    "#mean-average\n",
    "mean_val = data.mean(axis=0)\n",
    "print(mean_val)\n",
    "\n",
    "#Standard Deviation\n",
    "std = data.std(axis=0)\n",
    "print(std)"
   ]
  }
 ],
 "metadata": {
  "kernelspec": {
   "display_name": "Python 3 (ipykernel)",
   "language": "python",
   "name": "python3"
  },
  "language_info": {
   "codemirror_mode": {
    "name": "ipython",
    "version": 3
   },
   "file_extension": ".py",
   "mimetype": "text/x-python",
   "name": "python",
   "nbconvert_exporter": "python",
   "pygments_lexer": "ipython3",
   "version": "3.9.6"
  }
 },
 "nbformat": 4,
 "nbformat_minor": 5
}
